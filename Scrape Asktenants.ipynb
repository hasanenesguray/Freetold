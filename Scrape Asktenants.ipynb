{
 "cells": [
  {
   "cell_type": "code",
   "execution_count": 1,
   "id": "f1a6bffc",
   "metadata": {},
   "outputs": [
    {
     "name": "stdout",
     "output_type": "stream",
     "text": [
      "{'author_name': 'Celial-j', 'author_role': 'Tenant'}\n"
     ]
    }
   ],
   "source": [
    "import requests\n",
    "from bs4 import BeautifulSoup\n",
    "\n",
    "# URL of the page to scrape\n",
    "url = 'https://asktenants.co.uk/area-rating/10-Gunterstone-Road-London-W14/13073/2502/GBR-25961857/celial-j'\n",
    "\n",
    "# Initialize a dict to hold the scraped data\n",
    "scraped_data = {}\n",
    "\n",
    "# Send a GET request to the webpage\n",
    "response = requests.get(url)\n",
    "\n",
    "# Check if the request was successful\n",
    "if response.status_code == 200:\n",
    "    # Parse the HTML content of the page\n",
    "    soup = BeautifulSoup(response.text, 'html.parser')\n",
    "    \n",
    "    # Find the span element with the class 'author'\n",
    "    author_span = soup.find('span', class_='author')\n",
    "    \n",
    "    if author_span:\n",
    "        # Extract the text and split it to get author name and role separately\n",
    "        author_info = author_span.get_text(strip=True).split(' - ')\n",
    "        if len(author_info) == 2:\n",
    "            author_name, author_role = author_info\n",
    "        else:\n",
    "            author_name = author_info[0]\n",
    "            author_role = \"Not specified\"\n",
    "        \n",
    "        # Add the extracted information to the dict\n",
    "        scraped_data['author_name'] = author_name\n",
    "        scraped_data['author_role'] = author_role\n",
    "        \n",
    "        print(scraped_data)\n",
    "    else:\n",
    "        print(\"The specified element could not be found.\")\n",
    "else:\n",
    "    print(f\"Failed to retrieve the webpage. Status code: {response.status_code}\")\n"
   ]
  },
  {
   "cell_type": "code",
   "execution_count": null,
   "id": "9cd855fe",
   "metadata": {},
   "outputs": [],
   "source": []
  }
 ],
 "metadata": {
  "kernelspec": {
   "display_name": "Python 3 (ipykernel)",
   "language": "python",
   "name": "python3"
  },
  "language_info": {
   "codemirror_mode": {
    "name": "ipython",
    "version": 3
   },
   "file_extension": ".py",
   "mimetype": "text/x-python",
   "name": "python",
   "nbconvert_exporter": "python",
   "pygments_lexer": "ipython3",
   "version": "3.9.12"
  }
 },
 "nbformat": 4,
 "nbformat_minor": 5
}
