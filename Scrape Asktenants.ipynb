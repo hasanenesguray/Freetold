{
 "cells": [
  {
   "cell_type": "code",
   "execution_count": 1,
   "id": "f1a6bffc",
   "metadata": {},
   "outputs": [
    {
     "name": "stdout",
     "output_type": "stream",
     "text": [
      "•\tIn an email dated 4.10.15, the landlady said that she would inspect the flat once every 3 months with a week’s notice. Later on, she said that only 24 hours notice was necessary and that it did not have to be at a convenient time for us. She often appeared on a Saturday morning – the most inconvenient time for those that work 9-5, 5 days a week and want to enjoy their free time. Her inspections increased, at one point, to twice a week for two weeks. We cleaned the flat regularly, but she expected the flat to be absolutely spotless – i.e. not lived in. For example, she complained several times about dust on top of the doorframes and watermarks in the sink.•\tThe landlady would send her brother, who lived in the building, to the flat to inspect it or if we had a problem that needed fixing. He was incredibly rude and unhelpful and not what we signed up for. On one occasion he let himself into our flat without notice. It made me feel incredibly nervous living there on my own (my housemate was away a lot), knowing that he had a key.•\tIt got to the point that I was scared to be in the flat on my own. My housemate would be away for months at a time for work and I became incredibly anxious living there, knowing that she could come over with only 24hrs notice, and that her brother had a key to the flat.•\tThe tenancy agreement clearly stated that the landlord/landlady should not infringe upon the tenants ‘quiet enjoyment of the flat’ – she did.•\tOne Saturday, when the landlady came for an inspection, she was particularly aggressive towards me. She did not realise that my boyfriend was in my bedroom and, when he heard how rude she was being towards me, he politely asked her not to speak to me in that way. She immediately put her hand in his face saying ‘I am not talking to you’ and said that he could never visit the flat again. After this incident, Neda became convinced that we had other people living in the flat.•\tWhen I was in the process of signing for a new flat, I was asked to give the contact details of my current landlord so that they could provide a reference. I asked the landlady’s permission to do this and she asked me to ring her. On the phone, she said that I had been an awful tenant and that, to give me a good reference would be a lie. However, she said that she also wanted me gone from the flat, and so preceded to blackmail me by saying that she would only give me a good reference if I promised to get the flat professionally cleaned after moving out. Since it had been my intention to do this anyway, I agreed. Needless to say, having said that she would give me a reference, she didn’t and ignored all phone calls and emails from Let Alliance when they tried to contact her for one. As a consequence, I had to provide my previous 6 months of bank statements to prove that I had paid my rent on time.I paid for the flat to be professionally cleaned at the end of the tenancy. The plastic sofa had a slight rip on the seam. The DSA advised me that it was fair wear and tear as you can see where the other seam was ripping. However, the landlady said that we had to pay for a new sofa. The Tenancy Deposit Scheme clearly states that: “Landlords should therefore keep in mind that the tenant’s deposit is not to be used like an insurance policy where you might get “full replacement value” or “new for old”.”In the end she asked for £150 towards it, which we paid because, by that point we were exhausted by the back and forth arguing.I would be happy to provide further pictures and emails for evidence.\n"
     ]
    }
   ],
   "source": [
    "import requests\n",
    "from bs4 import BeautifulSoup\n",
    "\n",
    "# URL of the page to scrape\n",
    "url = 'https://asktenants.co.uk/area-rating/10-Gunterstone-Road-London-W14/13073/2502/GBR-25961857/celial-j'\n",
    "\n",
    "# Send a GET request to the webpage\n",
    "response = requests.get(url)\n",
    "\n",
    "# Check if the request was successful\n",
    "if response.status_code == 200:\n",
    "    # Parse the HTML content of the page\n",
    "    soup = BeautifulSoup(response.text, 'html.parser')\n",
    "    \n",
    "    # Find the div element with the class 'property-comment-body'\n",
    "    comment_div = soup.find('div', class_='property-comment-body')\n",
    "    \n",
    "    if comment_div:\n",
    "        # Extract and print the text within the div\n",
    "        print(comment_div.get_text(strip=True))\n",
    "    else:\n",
    "        print(\"The specified element could not be found.\")\n",
    "else:\n",
    "    print(f\"Failed to retrieve the webpage. Status code: {response.status_code}\")\n"
   ]
  },
  {
   "cell_type": "code",
   "execution_count": null,
   "id": "9cd855fe",
   "metadata": {},
   "outputs": [],
   "source": []
  }
 ],
 "metadata": {
  "kernelspec": {
   "display_name": "Python 3 (ipykernel)",
   "language": "python",
   "name": "python3"
  },
  "language_info": {
   "codemirror_mode": {
    "name": "ipython",
    "version": 3
   },
   "file_extension": ".py",
   "mimetype": "text/x-python",
   "name": "python",
   "nbconvert_exporter": "python",
   "pygments_lexer": "ipython3",
   "version": "3.9.12"
  }
 },
 "nbformat": 4,
 "nbformat_minor": 5
}
